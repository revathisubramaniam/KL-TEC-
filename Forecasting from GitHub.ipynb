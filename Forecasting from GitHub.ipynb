{
    "metadata": {
        "language_info": {
            "name": "python", 
            "file_extension": ".py", 
            "pygments_lexer": "ipython3", 
            "nbconvert_exporter": "python", 
            "mimetype": "text/x-python", 
            "codemirror_mode": {
                "name": "ipython", 
                "version": 3
            }, 
            "version": "3.5.2"
        }, 
        "widgets": {
            "state": {}, 
            "version": "1.1.1"
        }, 
        "kernelspec": {
            "name": "python3", 
            "language": "python", 
            "display_name": "Python 3.5 (Experimental) with Spark 1.6"
        }
    }, 
    "nbformat": 4, 
    "nbformat_minor": 1, 
    "cells": [
        {
            "metadata": {
                "collapsed": true
            }, 
            "source": "import pandas as pd\nimport numpy as np\nimport matplotlib.pylab as plt\n%matplotlib inline\nfrom matplotlib.pylab import rcParams\nrcParams['figure.figsize'] = 15, 6", 
            "outputs": [], 
            "execution_count": null, 
            "cell_type": "code"
        }, 
        {
            "metadata": {}, 
            "source": "air_passengers = pd.read_csv(\"./data/AirPassengers.csv\", header = 0, parse_dates = [0], names = ['Month', 'Passengers'], index_col = 0)", 
            "outputs": [], 
            "execution_count": null, 
            "cell_type": "code"
        }, 
        {
            "metadata": {}, 
            "source": "log_air_passengers = np.log(air_passengers.Passengers)\nlog_air_passengers[1:10]", 
            "outputs": [], 
            "execution_count": null, 
            "cell_type": "code"
        }, 
        {
            "metadata": {}, 
            "source": "log_air_passengers_diff = log_air_passengers - log_air_passengers.shift()", 
            "outputs": [], 
            "execution_count": null, 
            "cell_type": "code"
        }, 
        {
            "metadata": {}, 
            "source": "log_air_passengers_diff.dropna(inplace=True)\nlog_air_passengers_diff[1:10]", 
            "outputs": [], 
            "execution_count": null, 
            "cell_type": "code"
        }, 
        {
            "metadata": {
                "collapsed": true
            }, 
            "source": "# Let's talk about the ARIMA model\n# Auto-Regressive Integrated Moving Average\n# In this case we're talking about a series with dependence among values (more natural)", 
            "outputs": [], 
            "execution_count": null, 
            "cell_type": "code"
        }, 
        {
            "metadata": {
                "collapsed": true
            }, 
            "source": "# Nothing but a linear regression with a few times\n# 1. The number of Auto-Regressive Terms (p)\n# 2. The number of Moving Average Terms (q)\n# 3. The number of differences taken", 
            "outputs": [], 
            "execution_count": null, 
            "cell_type": "code"
        }, 
        {
            "metadata": {}, 
            "source": "# We don't pull these out of thin air, but rather draw them from the data\nfrom statsmodels.tsa.stattools import acf, pacf\nlag_acf = acf(log_air_passengers_diff.values, nlags = 20)\nlag_pacf = pacf(log_air_passengers_diff.values, nlags = 20)", 
            "outputs": [], 
            "execution_count": null, 
            "cell_type": "code"
        }, 
        {
            "metadata": {}, 
            "source": "plt.subplot(121) \nplt.plot(lag_acf)\nplt.axhline(y=0,linestyle='--')\nplt.axhline(y=-1.96/np.sqrt(len(log_air_passengers_diff)),linestyle='--')\nplt.axhline(y=1.96/np.sqrt(len(log_air_passengers_diff)),linestyle='--')", 
            "outputs": [], 
            "execution_count": null, 
            "cell_type": "code"
        }, 
        {
            "metadata": {
                "collapsed": true
            }, 
            "source": "# look at where the plot crosses the upper confidence interval for the first time\n# for ACF this is 2 and gives us the p value", 
            "outputs": [], 
            "execution_count": null, 
            "cell_type": "code"
        }, 
        {
            "metadata": {}, 
            "source": "plt.subplot(121) \nplt.plot(lag_pacf)\nplt.axhline(y=0,linestyle='--')\nplt.axhline(y=-1.96/np.sqrt(len(log_air_passengers_diff)),linestyle='--')\nplt.axhline(y=1.96/np.sqrt(len(log_air_passengers_diff)),linestyle='--')", 
            "outputs": [], 
            "execution_count": null, 
            "cell_type": "code"
        }, 
        {
            "metadata": {
                "collapsed": true
            }, 
            "source": "# look at where the plot crosses the upper confidence interval for the first time\n# for PACF this is 2 and gives us the p value", 
            "outputs": [], 
            "execution_count": null, 
            "cell_type": "code"
        }, 
        {
            "metadata": {
                "collapsed": true
            }, 
            "source": "from statsmodels.tsa.arima_model import ARIMA", 
            "outputs": [], 
            "execution_count": null, 
            "cell_type": "code"
        }, 
        {
            "metadata": {}, 
            "source": "# AR model\nmodel = ARIMA(log_air_passengers, order=(2, 1, 0))  \nresults_AR = model.fit(disp=-1)  \nplt.plot(log_air_passengers_diff)\nplt.plot(results_AR.fittedvalues, color='red')\nplt.title('RSS: %.4f'% sum((results_AR.fittedvalues-log_air_passengers_diff)**2))", 
            "outputs": [], 
            "execution_count": null, 
            "cell_type": "code"
        }, 
        {
            "metadata": {}, 
            "source": "# MA model\nmodel = ARIMA(log_air_passengers, order=(0, 1, 2))  \nresults_MA = model.fit(disp=-1)  \nplt.plot(log_air_passengers_diff)\nplt.plot(results_MA.fittedvalues, color='red')\nplt.title('RSS: %.4f'% sum((results_MA.fittedvalues-log_air_passengers_diff)**2))", 
            "outputs": [], 
            "execution_count": null, 
            "cell_type": "code"
        }, 
        {
            "metadata": {}, 
            "source": "# ARIMA model\nmodel = ARIMA(log_air_passengers, order=(2, 1, 2))  \nresults_ARIMA = model.fit(disp=-1)  \nplt.plot(log_air_passengers_diff)\nplt.plot(results_ARIMA.fittedvalues, color='red')\nplt.title('RSS: %.4f'% sum((results_ARIMA.fittedvalues-log_air_passengers_diff)**2))", 
            "outputs": [], 
            "execution_count": null, 
            "cell_type": "code"
        }, 
        {
            "metadata": {}, 
            "source": "predictions_ARIMA_diff = pd.Series(results_ARIMA.fittedvalues, copy=True)\nprint(predictions_ARIMA_diff.head())", 
            "outputs": [], 
            "execution_count": null, 
            "cell_type": "code"
        }, 
        {
            "metadata": {}, 
            "source": "predictions_ARIMA_diff_cumsum = predictions_ARIMA_diff.cumsum()\nprint(predictions_ARIMA_diff_cumsum.head())", 
            "outputs": [], 
            "execution_count": null, 
            "cell_type": "code"
        }, 
        {
            "metadata": {}, 
            "source": "predictions_ARIMA_log = pd.Series(log_air_passengers.ix[0], index=log_air_passengers.index)\npredictions_ARIMA_log = predictions_ARIMA_log.add(predictions_ARIMA_diff_cumsum,fill_value=0)\npredictions_ARIMA_log.head()", 
            "outputs": [], 
            "execution_count": null, 
            "cell_type": "code"
        }, 
        {
            "metadata": {}, 
            "source": "predictions_ARIMA = np.exp(predictions_ARIMA_log)\nplt.plot(air_passengers)\nplt.plot(predictions_ARIMA)", 
            "outputs": [], 
            "execution_count": null, 
            "cell_type": "code"
        }, 
        {
            "metadata": {
                "collapsed": true
            }, 
            "source": "", 
            "outputs": [], 
            "execution_count": null, 
            "cell_type": "code"
        }
    ]
}